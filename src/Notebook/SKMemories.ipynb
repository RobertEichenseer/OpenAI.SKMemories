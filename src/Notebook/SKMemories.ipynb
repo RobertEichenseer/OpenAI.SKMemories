{
 "cells": [
  {
   "attachments": {},
   "cell_type": "markdown",
   "metadata": {},
   "source": [
    "# MS Semantic Kernel Memory - Knowledge Base for Information Worker"
   ]
  },
  {
   "attachments": {},
   "cell_type": "markdown",
   "metadata": {},
   "source": [
    "## Intro\n",
    "\n"
   ]
  },
  {
   "attachments": {},
   "cell_type": "markdown",
   "metadata": {},
   "source": [
    "### Step 1: Azure Environment\n",
    "\n",
    "This [Azure CLI script](../CreateEnv/CreateEnv.azcli) creates: \n",
    "- an Azure Open AI instance\n",
    "- deploys `text-embedding-ada-002` to calculate embeddings\n",
    "- deploys `gpt-35-turbo` to summarize wikipedia articles (knowledge)\n",
    "\n",
    "The script provides necessary credentials (API key), endpoint information (Azure OpenAI) and model deployment names (embedding & chat completion) and stores them in environment variables.\n",
    "\n",
    "```azurecli\n",
    "$ENV:AZURE_OPENAI_ENDPOINT = $csEndpoint\n",
    "$ENV:AZURE_OPENAI_API_KEY = $csApiKey\n",
    "$ENV:AZURE_OPENAI_CHATCOMPLETION_DEPLOYMENTNAME = $modelChatCompletionDeploymentName\n",
    "$ENV:AZURE_OPENAI_EMBEDDING_DEPLOYMENTNAME = $modelEmbeddingDeploymentName\n",
    "```"
   ]
  },
  {
   "attachments": {},
   "cell_type": "markdown",
   "metadata": {},
   "source": [
    "### Step 2: Build Semantic Kernel Instance\n",
    "\n",
    "A Semantic Kernel instance is created with:\n",
    "- Azure chat completion service\n",
    "- Azure embedding service\n",
    "- Memory storage (VolatileMemoryStorage in this example)"
   ]
  },
  {
   "cell_type": "code",
   "execution_count": 2,
   "metadata": {
    "dotnet_interactive": {
     "language": "csharp"
    },
    "polyglot_notebook": {
     "kernelName": "csharp"
    }
   },
   "outputs": [
    {
     "data": {
      "text/html": [
       "<div><div></div><div></div><div><strong>Installed Packages</strong><ul><li><span>Microsoft.SemanticKernel, 0.16.230615.1-preview</span></li></ul></div></div>"
      ]
     },
     "metadata": {},
     "output_type": "display_data"
    }
   ],
   "source": [
    "#r \"nuget: Microsoft.SemanticKernel, 0.16.230615.1-preview\"\n",
    "\n",
    "using Microsoft.SemanticKernel; \n",
    "using Microsoft.SemanticKernel.Memory;\n",
    "using Microsoft.SemanticKernel.SkillDefinition;\n",
    "using Microsoft.SemanticKernel.Orchestration;\n",
    "using Microsoft.SemanticKernel.SemanticFunctions;\n",
    "using System.Text.Json;\n",
    "\n",
    "//Define Azure OpenAI information\n",
    "string _apiEndpoint = \"<<Your Azure OpenAI API endpoint>>\";\n",
    "string _apiKey = \"<<Your Azure OpenAI API key>>\";\n",
    "string _modelChatCompletionDeploymentName = \"<<your Azure OpenAI chat completion deployment name>>\";\n",
    "string _modelEmbeddingDeploymentName = \"<<your Azure OpenAI embedding deployment name>>\";\n",
    "\n",
    "\n",
    "//Build Semantic Kernel\n",
    "var kernelBuilder = new KernelBuilder()\n",
    "    .WithAzureChatCompletionService(\n",
    "        apiKey: _apiKey, \n",
    "        endpoint: _apiEndpoint, \n",
    "        deploymentName: _modelChatCompletionDeploymentName\n",
    "    )\n",
    "    .WithAzureTextEmbeddingGenerationService(\n",
    "        endpoint: _apiEndpoint,\n",
    "        apiKey: _apiKey,\n",
    "        deploymentName: _modelEmbeddingDeploymentName\n",
    "    )\n",
    "    .WithMemoryStorage(new VolatileMemoryStore());\n",
    "IKernel kernel = kernelBuilder.Build();\n",
    "\n",
    "#!share --from c# kernel --as kernel\n"
   ]
  },
  {
   "attachments": {},
   "cell_type": "markdown",
   "metadata": {},
   "source": [
    "### Step 3: Define inline Skill \n",
    "\n",
    "To summarize knowledge from sources a semantic function `SimpleSummarization` as part of the `SummarySkill` is defined and registered with the Semantic Kernel instance."
   ]
  },
  {
   "cell_type": "code",
   "execution_count": 3,
   "metadata": {
    "dotnet_interactive": {
     "language": "csharp"
    },
    "polyglot_notebook": {
     "kernelName": "csharp"
    }
   },
   "outputs": [],
   "source": [
    "//Define & register semantic skill\n",
    "string skPrompt = @\"\n",
    "You are an AI assistant that creates short and accurate summaries of provided text.\n",
    "The summary must not be more than 2 short sentences. Stop responding after you've created the two sentences. \n",
    "Reply in full sentences and avoid bullet points.\n",
    "\n",
    "---\n",
    "User: {{$input}}\n",
    "Assistant: \n",
    "---\n",
    "\";\n",
    "\n",
    "PromptTemplateConfig promptTemplateConfig = new PromptTemplateConfig(){\n",
    "    Completion = {\n",
    "        MaxTokens = 2000,\n",
    "        Temperature = 0.7,\n",
    "    }\n",
    "};\n",
    "\n",
    "PromptTemplate promptTemplate = new PromptTemplate(\n",
    "    skPrompt,\n",
    "    promptTemplateConfig,\n",
    "    kernel\n",
    ");\n",
    "\n",
    "string skillName = \"SummarySkill\";\n",
    "string functionName = \"SimpleSummarization\";\n",
    "\n",
    "SemanticFunctionConfig functionConfig = new SemanticFunctionConfig(promptTemplateConfig, promptTemplate);\n",
    "kernel.RegisterSemanticFunction(skillName, functionName, functionConfig);\n",
    "\n"
   ]
  },
  {
   "attachments": {},
   "cell_type": "markdown",
   "metadata": {},
   "source": [
    "### Step 4: Knowledge Sources\n",
    "\n",
    "Three Wikipedia articles with knowledge around planets introduced in the Star Wars films are provided. These articles are used as knowledge base which information worker can use as base for providing answers to potential customer questions."
   ]
  },
  {
   "cell_type": "code",
   "execution_count": 4,
   "metadata": {
    "dotnet_interactive": {
     "language": "csharp"
    },
    "polyglot_notebook": {
     "kernelName": "csharp"
    }
   },
   "outputs": [],
   "source": [
    "//Define knowledge articles\n",
    "string[] knowledgeUrls = {\n",
    "    \"https://en.wikipedia.org/w/api.php?action=query&format=json&prop=extracts&titles=Dagobah&explaintext=1&exsectionformat=plain\", \n",
    "    \"https://en.wikipedia.org/w/api.php?action=query&format=json&prop=extracts&titles=Hoth&explaintext=1&exsectionformat=plain\",\n",
    "    \"https://en.wikipedia.org/w/api.php?action=query&format=json&prop=extracts&titles=Naboo&explaintext=1&exsectionformat=plain\"\n",
    "};\n",
    "\n",
    "#!share --from c# knowledgeUrls --as knowledgeUrls"
   ]
  },
  {
   "attachments": {},
   "cell_type": "markdown",
   "metadata": {},
   "source": [
    "### Step 5: Download knowledge - Summarize knowledge - Store knowledge\n",
    "\n",
    "Plain c# code is used to download the Wikipedia articles. The registered semantic function `SimpleSummarization`, part of the `SummarySkill`, is used to create a summary of each article.\n",
    "\n",
    "`kernel.Memory.SaveReferenceAsync()` is used to store the article summary, where the Kernel takes care of the creation of embeddings and the final storage in the registered storage system.\n",
    "\n",
    "The embeddings are stored in a collection named `StarWarsKnowHow`. \n"
   ]
  },
  {
   "cell_type": "code",
   "execution_count": 7,
   "metadata": {
    "dotnet_interactive": {
     "language": "csharp"
    },
    "polyglot_notebook": {
     "kernelName": "csharp"
    }
   },
   "outputs": [
    {
     "name": "stdout",
     "output_type": "stream",
     "text": [
      "Knowledge from https://en.wikipedia.org/w/api.php?action=query&format=json&prop=extracts&titles=Dagobah&explaintext=1&exsectionformat=plain downloaded.\n",
      "Knowledge Summary created Dagobah is a fictional planet in the Star Wars franchise, known for its murky swamps, steaming bayous, and jungles. It is also noted for being one of the purest places in the galaxy, with a strong living force, and was chosen by Jedi Master Yoda as a place to go into exile.\n",
      "Knowledge stored\n",
      "Knowledge from https://en.wikipedia.org/w/api.php?action=query&format=json&prop=extracts&titles=Hoth&explaintext=1&exsectionformat=plain downloaded.\n",
      "Knowledge Summary created Hoth is a small, terrestrial planet covered in snow and ice, home to only a few species including the wampa and tauntauns. It is the location of the Rebel Alliance's secret Echo Base and the site of the \"Battle of Hoth\" in the 1980 film The Empire Strikes Back.\n",
      "Knowledge stored\n",
      "Knowledge from https://en.wikipedia.org/w/api.php?action=query&format=json&prop=extracts&titles=Naboo&explaintext=1&exsectionformat=plain downloaded.\n",
      "Knowledge Summary created Naboo is a planet in the Star Wars universe, known for its green terrain and two independent societies: the native Gungans and the human Naboo. The planet was the site of a blockade by the Trade Federation and the Battle of Naboo in Star Wars: Episode I – The Phantom Menace.\n",
      "Knowledge stored\n"
     ]
    }
   ],
   "source": [
    "using System.Net.Http; \n",
    "\n",
    "//Download knowledge - Summarize knowledge - Store knowledge (create memory)         \n",
    "string memoryCollectionName = \"StarWarsKnowHow\";\n",
    "foreach (string knowledgeUrl in knowledgeUrls) {\n",
    "\n",
    "    string knowledge = await DownloadWikiArticle(knowledgeUrl, 2000);\n",
    "    Console.WriteLine($\"Knowledge from {knowledgeUrl} downloaded.\");                \n",
    "\n",
    "    //Create knowledge summary \n",
    "    string skill = \"SummarySkill\";\n",
    "    string function = \"SimpleSummarization\";\n",
    "    ISKFunction skFunction = kernel.Skills.GetFunction(skill, function); \n",
    "    ContextVariables contextVariables = new ContextVariables(knowledge);\n",
    "    string knowledgeSummary = (await kernel.RunAsync(contextVariables, skFunction)).Result;\n",
    "    Console.WriteLine($\"Knowledge Summary created {knowledgeSummary}\");\n",
    "\n",
    "    //Store data (create memory)\n",
    "    string result = await kernel.Memory.SaveReferenceAsync(\n",
    "        collection: memoryCollectionName,\n",
    "        description: knowledgeSummary,\n",
    "        text: knowledge,\n",
    "        externalId: knowledgeUrl,\n",
    "        externalSourceName: \"Wikipedia\"\n",
    "    );\n",
    "    Console.WriteLine($\"Knowledge stored\");\n",
    "\n",
    "} \n",
    "\n",
    "//Download Wiki article\n",
    "async Task<string> DownloadWikiArticle(string url, int maxSize = 1000) {\n",
    "\n",
    "    using HttpClient httpClient = new HttpClient();\n",
    "    \n",
    "    HttpResponseMessage httpResponseMessage = await httpClient.GetAsync(url);\n",
    "    JsonDocument jsonDocument = JsonDocument.Parse(await httpResponseMessage.Content.ReadAsStringAsync());\n",
    "\n",
    "    JsonElement jsonElement = jsonDocument.RootElement; \n",
    "    return IterateJson(jsonElement).Substring(0, maxSize); \n",
    "\n",
    "}\n",
    "\n",
    "string IterateJson(JsonElement root) {\n",
    "\n",
    "    string article = \"\"; \n",
    "\n",
    "    if (root.ValueKind == JsonValueKind.Array)\n",
    "    {\n",
    "        foreach (JsonElement element in root.EnumerateArray())\n",
    "        {\n",
    "            IterateJson(element);\n",
    "        }\n",
    "    }\n",
    "    else if (root.ValueKind == JsonValueKind.Object)\n",
    "    {\n",
    "        foreach (JsonProperty property in root.EnumerateObject())\n",
    "        {\n",
    "            if (property.Name == \"extract\"){\n",
    "                article = property.Value.GetString()??\"\";\n",
    "                break; \n",
    "            }\n",
    "            article = IterateJson(property.Value);\n",
    "        }\n",
    "    }\n",
    "    return article; \n",
    "}"
   ]
  },
  {
   "attachments": {},
   "cell_type": "markdown",
   "metadata": {},
   "source": [
    "### Step 6: Query Memories\n",
    "\n",
    "`kernel.Memory.SearchAsync()` is used to perform semantic queries on stored memories (Wikipedia articles). The query is executed against the collection named `StarWarsKnowHow`. This is the collection where the embeddings have been stored as well."
   ]
  },
  {
   "cell_type": "code",
   "execution_count": 6,
   "metadata": {
    "dotnet_interactive": {
     "language": "csharp"
    },
    "polyglot_notebook": {
     "kernelName": "csharp"
    }
   },
   "outputs": [
    {
     "name": "stdout",
     "output_type": "stream",
     "text": [
      " : 0.7651100978883095 : https://en.wikipedia.org/w/api.php?action=query&format=json&prop=extracts&titles=Dagobah&explaintext=1&exsectionformat=plain : Dagobah is a fictional planet in the Star Wars franchise, known for its murky swamps, steaming bayous, and jungles. It is also noted for being one of the purest places in the galaxy, with a strong living force, and was chosen by Jedi Master Yoda as a place to go into exile.\r\n"
     ]
    }
   ],
   "source": [
    "//Query knowledge\n",
    "string query = \"Where does Joda come from?\";\n",
    "IAsyncEnumerable<MemoryQueryResult> searchResults = kernel.Memory.SearchAsync(memoryCollectionName, query); \n",
    "await foreach (MemoryQueryResult memory in searchResults) {\n",
    "    Console.WriteLine($\"{memory.Metadata.Text} : {memory.Relevance} : {memory.Metadata.Id} : {memory.Metadata.Description}\");\n",
    "}"
   ]
  }
 ],
 "metadata": {
  "kernelspec": {
   "display_name": ".NET (C#)",
   "language": "C#",
   "name": ".net-csharp"
  },
  "language_info": {
   "name": "polyglot-notebook"
  },
  "polyglot_notebook": {
   "kernelInfo": {
    "defaultKernelName": "csharp",
    "items": [
     {
      "aliases": [],
      "languageName": "csharp",
      "name": "csharp"
     }
    ]
   }
  }
 },
 "nbformat": 4,
 "nbformat_minor": 2
}
